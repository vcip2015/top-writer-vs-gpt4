{
 "cells": [
  {
   "cell_type": "markdown",
   "metadata": {},
   "source": [
    "# Análisis de resultados de Pron vs. Prompt\n",
    "\n",
    "En este cuaderno analizamos los datos del experimento Pron vs. Prompt. Principalmente, haremos un análisis descriptivo y de correlaciones. Dejamos el modelo de efectos mixtos para R."
   ]
  },
  {
   "cell_type": "code",
   "execution_count": 48,
   "metadata": {},
   "outputs": [],
   "source": [
    "import pandas as pd\n",
    "import matplotlib.pyplot as plt\n",
    "import copy\n",
    "import numpy as np\n",
    "import matplotlib\n",
    "\n",
    "# Configurar la fuente de toda la figura en Times New Roman\n",
    "matplotlib.rcParams['font.family'] = 'serif'\n",
    "matplotlib.rcParams['font.serif'] = 'Times New Roman'"
   ]
  },
  {
   "cell_type": "markdown",
   "metadata": {},
   "source": [
    "Unas variables auxiliares que nos permitirán seleccionar subconjuntos de los datos."
   ]
  },
  {
   "cell_type": "code",
   "execution_count": 49,
   "metadata": {},
   "outputs": [],
   "source": [
    "columns_study = ['1_atractivo_titulo',\n",
    "       '1_atractivo_estilo', '1_atractivo_tema', '2_originalidad_titulo',\n",
    "       '2_originalidad_estilo', '2_originalidad_tema', '3_relevancia',\n",
    "       '4_creatividad_titulo', '4_creatividad_sinopsis',\n",
    "       '5_autoria_titulo', '5_autoria_sinopsis',\n",
    "       '6_antologia', '6_opinion_lectores',\n",
    "       '6_opinion_criticos', '6_voz_propia',]\n",
    "columns_numeric_title = ['1_atractivo_titulo', \n",
    "       '2_originalidad_titulo', \n",
    "       '4_creatividad_titulo',]\n",
    "columns_numeric_synopsis = ['1_atractivo_estilo', '1_atractivo_tema',\n",
    "        '2_originalidad_estilo', '2_originalidad_tema',\n",
    "       '4_creatividad_sinopsis', ]\n",
    "       # '6_antologia', '6_opinion_lectores', '6_opinion_criticos', '6_voz_propia']\n",
    "columns_numeric_synopsis_without6 = ['1_atractivo_estilo', '1_atractivo_tema',\n",
    "        '2_originalidad_estilo', '2_originalidad_tema',\n",
    "       '4_creatividad_sinopsis',]"
   ]
  },
  {
   "cell_type": "markdown",
   "metadata": {},
   "source": [
    "#### Preparación de los DataFrames\n",
    "\n",
    "Vamos a generar unas ids para las distintas operaciones sobre los datos.\n",
    "- ``id_item``: nos permite identificar de manera unívoca la sinopsis que ha escrito un agente, pero no distingue entre evaluadores.\n",
    "- ``id_user``: nos permite identificar cada sinopsis votada por cada crítico. No distingue entre escritores, esto nos permite hacer merge con los datos de Patricio, por un lado, y de GPT por otro."
   ]
  },
  {
   "cell_type": "code",
   "execution_count": 50,
   "metadata": {},
   "outputs": [
    {
     "data": {
      "text/plain": [
       "Index(['timestamp', 'username', '1_atractivo_titulo', '1_atractivo_estilo',\n",
       "       '1_atractivo_tema', '2_originalidad_titulo', '2_originalidad_estilo',\n",
       "       '2_originalidad_tema', '3_relevancia', '4_creatividad_titulo',\n",
       "       '4_creatividad_sinopsis', '4_creatividad_comentario',\n",
       "       '5_autoria_titulo', '5_autoria_sinopsis', '5_autoria_comentario',\n",
       "       '6_antologia', '6_opinion_lectores', '6_opinion_criticos',\n",
       "       '6_voz_propia', '6_comentario', 'title', 'title_id', 'sinopsis_writer',\n",
       "       'title_writer', 'experiment', 'id_title_sinopsis_writer',\n",
       "       'id_title_title_writer', 'id_for_es_en', 'id_title_user'],\n",
       "      dtype='object')"
      ]
     },
     "execution_count": 50,
     "metadata": {},
     "output_type": "execute_result"
    }
   ],
   "source": [
    "df = pd.read_csv('data/resultados_en_bruto.csv')\n",
    "df['id_title_sinopsis_writer'] = df['title_id'] + '_' + df['sinopsis_writer']\n",
    "df['id_title_title_writer'] = df['title_id'] + '_' + df['title_writer']\n",
    "df['id_for_es_en'] = df['title_id'] + '_' + df['sinopsis_writer'].replace('_es','').replace('_en','')\n",
    "df['id_title_user'] = df['title_id'] + '_' + df['username'] \n",
    "df.columns"
   ]
  },
  {
   "cell_type": "markdown",
   "metadata": {},
   "source": [
    "Ahora creamos los DataFrame para estudiar, separados por escritor de cada sinopsis, que es el objetivo principal de nuestro experimento. Esa diferencia."
   ]
  },
  {
   "cell_type": "code",
   "execution_count": 51,
   "metadata": {},
   "outputs": [],
   "source": [
    "def select_df_by(df, selector = 'sinopsis'):\n",
    "    df = copy.copy(df)\n",
    "    df[columns_numeric_synopsis] += 1\n",
    "    mode = f'{selector}_writer'\n",
    "\n",
    "    if selector == 'sinopsis':\n",
    "        df = df.drop(columns=columns_numeric_title).reset_index(drop=True)\n",
    "        df_gpt_en = df[df[mode] == 'gpt4_en'].reset_index(drop=True)\n",
    "        df_gpt_es = df[df[mode] == 'gpt4_es'].reset_index(drop=True)\n",
    "        df_gpt_agrr = df[df[mode] != 'patricio'].reset_index(drop=True)\n",
    "        join_id = 'id_title_user'\n",
    "    else:\n",
    "        df = df.drop(columns=columns_numeric_synopsis).reset_index(drop=True)\n",
    "        df_gpt_en = df[df[mode] == 'machine'].reset_index(drop=True)\n",
    "        df_gpt_es = df_gpt_en\n",
    "        df_gpt_agrr = df[df[mode] != 'patricio'].reset_index(drop=True)\n",
    "        join_id = 'id_title_user'\n",
    "\n",
    "    df_es = df[df.experiment=='SPANISH']\n",
    "    df_en = df[df.experiment=='ENGLISH']\n",
    "\n",
    "    df_patricio = df[df[mode] == 'patricio'].reset_index(drop=True)\n",
    "    df_patricio_es = df_es[df_es[mode] == 'patricio']\n",
    "    df_patricio_en = df_en[df_en[mode] == 'patricio']\n",
    "    df_patricio_gpt_es = df_patricio_es.merge(df_gpt_es, on=join_id, suffixes=('_patricio', '_gpt4')).transpose().sort_index().transpose()\n",
    "    df_patricio_gpt_en = df_patricio_en.merge(df_gpt_en, on=join_id, suffixes=('_patricio', '_gpt4')).transpose().sort_index().transpose()\n",
    "    df_patricio_es_patricio_en = df_patricio_en.merge(df_patricio_es, on='title_id', suffixes=('_patricio_en', '_patricio_es')).transpose().sort_index().transpose()\n",
    "    \n",
    "    df_gpt_es_gpt_en = df_gpt_es.merge(df_gpt_en, on='title_id', suffixes=('_gpt4_es', '_gpt4_en')).transpose().sort_index().transpose()\n",
    "\n",
    "    df_gpt_en.to_csv('data/df_gpt_en.csv')\n",
    "    df_gpt_es.to_csv('data/df_gpt_es.csv')\n",
    "    df_patricio.to_csv('data/df_patricio.csv')\n",
    "    df_patricio_gpt_es.to_csv('data/df_patricio_gpt_es.csv')\n",
    "    df_patricio_gpt_en.to_csv('data/df_patricio_gpt_en.csv')\n",
    "    df_patricio_es_patricio_en.to_csv('data/df_patricio_es_patricio_en.csv')\n",
    "    df_gpt_es_gpt_en.to_csv('data/df_gpt_es_gpt_en.csv')\n",
    "\n",
    "    return {'df_gpt_en':df_gpt_en,\n",
    "            'df_gpt_es':df_gpt_es,\n",
    "            'df_patricio':df_patricio,\n",
    "            'df_gpt_agrr' : df_gpt_agrr,\n",
    "            'df_patricio_gpt_es':df_patricio_gpt_es,\n",
    "            'df_patricio_gpt_en':df_patricio_gpt_en,\n",
    "            'df_patricio_es_patricio_en':df_patricio_es_patricio_en,\n",
    "            'df_gpt_es_gpt_en':df_gpt_es_gpt_en}"
   ]
  },
  {
   "cell_type": "code",
   "execution_count": 52,
   "metadata": {},
   "outputs": [],
   "source": [
    "dfs_title = select_df_by(df, 'title')\n",
    "dfs_sinopsis = select_df_by(df, 'sinopsis')"
   ]
  },
  {
   "cell_type": "code",
   "execution_count": 54,
   "metadata": {},
   "outputs": [],
   "source": [
    "# comparación gpt_es vs gpt_en\n",
    "dfs_sinopsis['df_gpt_es'] = dfs_sinopsis['df_gpt_es'].sort_values(by='title_id').reset_index().add_suffix('_gpt_es')\n",
    "dfs_sinopsis['df_gpt_en'] = dfs_sinopsis['df_gpt_en'].sort_values(by='title_id').reset_index().add_suffix('_gpt_en')\n",
    "dfs_sinopsis['df_gpt_es_gpt_en'] = pd.concat([dfs_sinopsis['df_gpt_es'], dfs_sinopsis['df_gpt_en']], axis=1)"
   ]
  },
  {
   "cell_type": "markdown",
   "metadata": {},
   "source": [
    "## Análisis de significancia"
   ]
  },
  {
   "cell_type": "code",
   "execution_count": 57,
   "metadata": {},
   "outputs": [],
   "source": [
    "from scipy.stats import wilcoxon"
   ]
  },
  {
   "cell_type": "code",
   "execution_count": 58,
   "metadata": {},
   "outputs": [],
   "source": [
    "def separate_by_suffixes(string_list, left, rigth):\n",
    "    suffix1_list = []\n",
    "    suffix2_list = []\n",
    "    \n",
    "    for string in string_list:\n",
    "        if string.endswith(left):\n",
    "            suffix1_list.append(string)\n",
    "        elif string.endswith(rigth):\n",
    "            suffix2_list.append(string)\n",
    "    \n",
    "    return suffix1_list, suffix2_list"
   ]
  },
  {
   "cell_type": "code",
   "execution_count": 59,
   "metadata": {},
   "outputs": [],
   "source": [
    "def get_wilcoxon_test(data, left = '_gpt4', rigth = '_patricio'):\n",
    "    \n",
    "    columns_es, columns_en = separate_by_suffixes(data, left, rigth)\n",
    "    # Filter numeric columns for both languages\n",
    "    numeric_columns_es = data[columns_es].select_dtypes(include=[np.number]).columns\n",
    "    numeric_columns_en = data[columns_en].select_dtypes(include=[np.number]).columns\n",
    "\n",
    "    # Ensure columns are in the same order for pairing\n",
    "    numeric_columns_es = sorted([col for col in numeric_columns_es])\n",
    "    numeric_columns_en = sorted([col for col in numeric_columns_en])\n",
    "\n",
    "    # Initialize results list\n",
    "    results = []\n",
    "\n",
    "    # Perform Wilcoxon test and calculate effect size for each pair\n",
    "    for col_es, col_en in zip(numeric_columns_es, numeric_columns_en):\n",
    "        # Drop NaN values to ensure valid comparisons\n",
    "        paired_data = data[[col_es, col_en]].dropna()\n",
    "        \n",
    "        if not paired_data.empty:\n",
    "            es_values = paired_data[col_es]\n",
    "            en_values = paired_data[col_en]\n",
    "\n",
    "            # Perform Wilcoxon signed-rank test\n",
    "            stat, p_value = wilcoxon(es_values, en_values)\n",
    "\n",
    "            # Calculate effect size (rank-biserial correlation)\n",
    "            n = len(paired_data)\n",
    "            z = stat / np.sqrt(n)\n",
    "            effect_size = z / np.sqrt(n)\n",
    "\n",
    "            # Store the results\n",
    "            results.append({\n",
    "                'Variable': col_es.replace('_gpt_es', ''),\n",
    "                'Wilcoxon Statistic': stat,\n",
    "                'p-value': p_value,\n",
    "                'Effect Size': effect_size\n",
    "            })\n",
    "\n",
    "    # Convert results to DataFrame\n",
    "    results_df = pd.DataFrame(results)\n",
    "\n",
    "    # Display the results\n",
    "    return results_df\n"
   ]
  },
  {
   "cell_type": "code",
   "execution_count": 60,
   "metadata": {},
   "outputs": [],
   "source": [
    "columns_corr = [\"1_atractivo_estilo\",\n",
    "    \"1_atractivo_tema\",\n",
    "    \"2_originalidad_estilo\",\n",
    "    \"2_originalidad_tema\",\n",
    "    \"4_creatividad_sinopsis\"]"
   ]
  },
  {
   "cell_type": "markdown",
   "metadata": {},
   "source": [
    "Significación estadística entre GPT4 y Patricio en español."
   ]
  },
  {
   "cell_type": "code",
   "execution_count": 61,
   "metadata": {},
   "outputs": [
    {
     "data": {
      "text/html": [
       "<div>\n",
       "<style scoped>\n",
       "    .dataframe tbody tr th:only-of-type {\n",
       "        vertical-align: middle;\n",
       "    }\n",
       "\n",
       "    .dataframe tbody tr th {\n",
       "        vertical-align: top;\n",
       "    }\n",
       "\n",
       "    .dataframe thead th {\n",
       "        text-align: right;\n",
       "    }\n",
       "</style>\n",
       "<table border=\"1\" class=\"dataframe\">\n",
       "  <thead>\n",
       "    <tr style=\"text-align: right;\">\n",
       "      <th></th>\n",
       "      <th>Variable</th>\n",
       "      <th>Wilcoxon Statistic</th>\n",
       "      <th>p-value</th>\n",
       "      <th>Effect Size</th>\n",
       "    </tr>\n",
       "  </thead>\n",
       "  <tbody>\n",
       "    <tr>\n",
       "      <th>0</th>\n",
       "      <td>1_atractivo_estilo_gpt_en</td>\n",
       "      <td>1636.5</td>\n",
       "      <td>1.205859e-02</td>\n",
       "      <td>9.091667</td>\n",
       "    </tr>\n",
       "    <tr>\n",
       "      <th>1</th>\n",
       "      <td>1_atractivo_tema_gpt_en</td>\n",
       "      <td>2974.5</td>\n",
       "      <td>5.610586e-01</td>\n",
       "      <td>16.525000</td>\n",
       "    </tr>\n",
       "    <tr>\n",
       "      <th>2</th>\n",
       "      <td>2_originalidad_estilo_gpt_en</td>\n",
       "      <td>1446.0</td>\n",
       "      <td>3.919718e-04</td>\n",
       "      <td>8.033333</td>\n",
       "    </tr>\n",
       "    <tr>\n",
       "      <th>3</th>\n",
       "      <td>2_originalidad_tema_gpt_en</td>\n",
       "      <td>2690.0</td>\n",
       "      <td>1.062079e-01</td>\n",
       "      <td>14.944444</td>\n",
       "    </tr>\n",
       "    <tr>\n",
       "      <th>4</th>\n",
       "      <td>4_creatividad_sinopsis_gpt_en</td>\n",
       "      <td>2244.5</td>\n",
       "      <td>1.551554e-02</td>\n",
       "      <td>12.469444</td>\n",
       "    </tr>\n",
       "    <tr>\n",
       "      <th>5</th>\n",
       "      <td>6_antologia_gpt_en</td>\n",
       "      <td>2047.5</td>\n",
       "      <td>2.376777e-04</td>\n",
       "      <td>11.375000</td>\n",
       "    </tr>\n",
       "    <tr>\n",
       "      <th>6</th>\n",
       "      <td>6_opinion_criticos_gpt_en</td>\n",
       "      <td>699.0</td>\n",
       "      <td>3.857861e-16</td>\n",
       "      <td>3.883333</td>\n",
       "    </tr>\n",
       "    <tr>\n",
       "      <th>7</th>\n",
       "      <td>6_opinion_lectores_gpt_en</td>\n",
       "      <td>686.0</td>\n",
       "      <td>9.136709e-02</td>\n",
       "      <td>3.811111</td>\n",
       "    </tr>\n",
       "    <tr>\n",
       "      <th>8</th>\n",
       "      <td>6_voz_propia_gpt_en</td>\n",
       "      <td>1336.5</td>\n",
       "      <td>3.519064e-08</td>\n",
       "      <td>7.425000</td>\n",
       "    </tr>\n",
       "    <tr>\n",
       "      <th>9</th>\n",
       "      <td>index_gpt_en</td>\n",
       "      <td>7308.5</td>\n",
       "      <td>6.477626e-01</td>\n",
       "      <td>40.602778</td>\n",
       "    </tr>\n",
       "  </tbody>\n",
       "</table>\n",
       "</div>"
      ],
      "text/plain": [
       "                        Variable  Wilcoxon Statistic       p-value  \\\n",
       "0      1_atractivo_estilo_gpt_en              1636.5  1.205859e-02   \n",
       "1        1_atractivo_tema_gpt_en              2974.5  5.610586e-01   \n",
       "2   2_originalidad_estilo_gpt_en              1446.0  3.919718e-04   \n",
       "3     2_originalidad_tema_gpt_en              2690.0  1.062079e-01   \n",
       "4  4_creatividad_sinopsis_gpt_en              2244.5  1.551554e-02   \n",
       "5             6_antologia_gpt_en              2047.5  2.376777e-04   \n",
       "6      6_opinion_criticos_gpt_en               699.0  3.857861e-16   \n",
       "7      6_opinion_lectores_gpt_en               686.0  9.136709e-02   \n",
       "8            6_voz_propia_gpt_en              1336.5  3.519064e-08   \n",
       "9                   index_gpt_en              7308.5  6.477626e-01   \n",
       "\n",
       "   Effect Size  \n",
       "0     9.091667  \n",
       "1    16.525000  \n",
       "2     8.033333  \n",
       "3    14.944444  \n",
       "4    12.469444  \n",
       "5    11.375000  \n",
       "6     3.883333  \n",
       "7     3.811111  \n",
       "8     7.425000  \n",
       "9    40.602778  "
      ]
     },
     "execution_count": 61,
     "metadata": {},
     "output_type": "execute_result"
    }
   ],
   "source": [
    "get_wilcoxon_test(dfs_sinopsis['df_gpt_es_gpt_en'], left = '_gpt_en', rigth = '_gpt_es')"
   ]
  },
  {
   "cell_type": "markdown",
   "metadata": {},
   "source": [
    "Para validar la rúbrica, tenemos dos grupos de usuarios que han votado de manera distinta las sinopsis de Patricio. Vamos a comprobar si está bien hecha la rúbrica tratando de observar si hay diferencias entre las distribuciones."
   ]
  }
 ],
 "metadata": {
  "kernelspec": {
   "display_name": "nlp",
   "language": "python",
   "name": "python3"
  },
  "language_info": {
   "codemirror_mode": {
    "name": "ipython",
    "version": 3
   },
   "file_extension": ".py",
   "mimetype": "text/x-python",
   "name": "python",
   "nbconvert_exporter": "python",
   "pygments_lexer": "ipython3",
   "version": "3.11.8"
  }
 },
 "nbformat": 4,
 "nbformat_minor": 2
}
